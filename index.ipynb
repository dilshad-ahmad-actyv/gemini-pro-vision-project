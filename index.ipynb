{
 "cells": [
  {
   "cell_type": "code",
   "execution_count": 3,
   "metadata": {},
   "outputs": [
    {
     "data": {
      "text/plain": [
       "True"
      ]
     },
     "execution_count": 3,
     "metadata": {},
     "output_type": "execute_result"
    }
   ],
   "source": [
    "import os\n",
    "from dotenv import load_dotenv\n",
    "load_dotenv()"
   ]
  },
  {
   "cell_type": "code",
   "execution_count": 5,
   "metadata": {},
   "outputs": [],
   "source": [
    "gemini_api_key = os.environ.get('GEMINI_API_KEY')"
   ]
  },
  {
   "cell_type": "code",
   "execution_count": 7,
   "metadata": {},
   "outputs": [
    {
     "name": "stderr",
     "output_type": "stream",
     "text": [
      "/Users/dilshadahmad/GenAI/gemini_test/env/lib/python3.11/site-packages/tqdm/auto.py:21: TqdmWarning: IProgress not found. Please update jupyter and ipywidgets. See https://ipywidgets.readthedocs.io/en/stable/user_install.html\n",
      "  from .autonotebook import tqdm as notebook_tqdm\n"
     ]
    }
   ],
   "source": [
    "import google.generativeai as genai"
   ]
  },
  {
   "cell_type": "code",
   "execution_count": 8,
   "metadata": {},
   "outputs": [],
   "source": [
    "genai.configure(api_key=gemini_api_key)"
   ]
  },
  {
   "cell_type": "code",
   "execution_count": 9,
   "metadata": {},
   "outputs": [],
   "source": [
    "model = genai.GenerativeModel('gemini-1.5-flash')"
   ]
  },
  {
   "cell_type": "code",
   "execution_count": 10,
   "metadata": {},
   "outputs": [],
   "source": [
    "response = model.generate_content('Write a story about a magic backpack.')"
   ]
  },
  {
   "cell_type": "code",
   "execution_count": 12,
   "metadata": {},
   "outputs": [
    {
     "data": {
      "text/plain": [
       "'The old, leather backpack was dusty, tucked away in the attic. It had belonged to Amelia\\'s great-grandmother, a woman known for her adventures and her eccentricities. Amelia had always been fascinated by it, its worn straps whispering tales of faraway lands and forgotten treasures. \\n\\nOne rainy afternoon, while her parents were at work, Amelia decided to explore the attic. She found the backpack, its leather soft and pliable despite its age. A tingle ran down her spine as she lifted it, a strange energy emanating from it. As she strapped it on, a whisper echoed in her ear, \"Where to, little adventurer?\"\\n\\nStartled, Amelia looked around but saw nothing. She shrugged it off, attributing it to her imagination. She decided to test the backpack by going on a walk in the nearby forest. As she walked, she felt a strange sensation, a tingling warmth spreading from the backpack to her entire body. She looked around, expecting something to happen, but the forest was just as she remembered it. \\n\\nThen, she noticed the change in the trees. They seemed taller, their leaves shimmering in vibrant colors she had never seen before. The air smelled of cinnamon and pine needles, unlike the damp earthiness she was familiar with. She reached into the backpack to pull out her phone, but instead, her hand met with a small, leather-bound book. \\n\\nOpening the book, she found it filled with detailed sketches of fantastical creatures and intricate maps of unknown lands. The book was filled with whispers of magic and secrets, an invitation to a world beyond the familiar. Amelia felt a surge of excitement, a longing to explore the unknown. \\n\\nShe followed the map in the book, which led her to a hidden glade bathed in an ethereal light. In the center, a silver spring bubbled, its water sparkling like diamonds. As she knelt down to touch the water, the air shimmered, and a beautiful creature stepped out. It was a winged wolf, its fur the color of moonlight, its eyes filled with wisdom and curiosity. \\n\\nThe wolf spoke, its voice soft and melodious, \"You have found your way, little adventurer. The backpack is a bridge to worlds unseen, a portal to the extraordinary. Where do you wish to go?\"\\n\\nAmelia felt a rush of exhilaration. This was real, the magic was real. She looked at the wolf, her eyes wide with wonder. \"I want to see the world,\" she whispered, \"all of it.\"\\n\\nThe wolf smiled, its eyes twinkling. \"Then come, little adventurer. Your journey has just begun.\"\\n\\nAmelia\\'s journey with the magic backpack was filled with wonder and adventure. She flew with the wolf through the clouds, explored ancient ruins in a world of talking animals, and sailed across a sea of stars on a ship made of moonlight. Each experience broadened her perspective, filled her with knowledge and wisdom.\\n\\nYears passed, and Amelia grew into a woman. She used the magic of the backpack to help others, becoming a protector of the fantastical and a guardian of forgotten wonders. Her heart, once filled with wonder, now brimmed with compassion and understanding. For she knew that the greatest magic wasn\\'t in the backpack, but in the spirit of adventure, the love for the unknown, and the willingness to open one\\'s heart to the magic that existed in every corner of the world. \\n'"
      ]
     },
     "execution_count": 12,
     "metadata": {},
     "output_type": "execute_result"
    }
   ],
   "source": [
    "response.text"
   ]
  },
  {
   "cell_type": "code",
   "execution_count": null,
   "metadata": {},
   "outputs": [],
   "source": []
  }
 ],
 "metadata": {
  "kernelspec": {
   "display_name": "env",
   "language": "python",
   "name": "python3"
  },
  "language_info": {
   "codemirror_mode": {
    "name": "ipython",
    "version": 3
   },
   "file_extension": ".py",
   "mimetype": "text/x-python",
   "name": "python",
   "nbconvert_exporter": "python",
   "pygments_lexer": "ipython3",
   "version": "3.11.7"
  }
 },
 "nbformat": 4,
 "nbformat_minor": 2
}
